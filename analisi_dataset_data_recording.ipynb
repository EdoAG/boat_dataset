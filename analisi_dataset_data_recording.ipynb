{
 "cells": [
  {
   "cell_type": "markdown",
   "metadata": {},
   "source": [
    "Carico le librerie che mi servono, carico il dataset e stampo le dimensioni"
   ]
  },
  {
   "cell_type": "code",
   "execution_count": null,
   "metadata": {},
   "outputs": [],
   "source": [
    "import pandas as pd\n",
    "import numpy as np\n",
    "import plotly.graph_objects as go\n",
    "from plotly.subplots import make_subplots\n",
    "\n",
    "df = pd.read_csv(\n",
    "    r'.\\data_recording.csv')\n",
    "df.shape"
   ]
  },
  {
   "cell_type": "code",
   "execution_count": null,
   "metadata": {},
   "outputs": [],
   "source": [
    "df.dtypes"
   ]
  },
  {
   "cell_type": "markdown",
   "metadata": {},
   "source": [
    "Il dataset ha 31646 righe e 46 colonne, visualizzo le prime 10"
   ]
  },
  {
   "cell_type": "code",
   "execution_count": null,
   "metadata": {},
   "outputs": [],
   "source": [
    "df.head(10)"
   ]
  },
  {
   "cell_type": "markdown",
   "metadata": {},
   "source": [
    "Visualizzo anche le ultime 10"
   ]
  },
  {
   "cell_type": "code",
   "execution_count": null,
   "metadata": {},
   "outputs": [],
   "source": [
    "df.tail(10)"
   ]
  },
  {
   "cell_type": "markdown",
   "metadata": {},
   "source": [
    "Controllo se ci sono valori mancanti"
   ]
  },
  {
   "cell_type": "code",
   "execution_count": null,
   "metadata": {},
   "outputs": [],
   "source": [
    "df.isnull().values.any()"
   ]
  },
  {
   "cell_type": "markdown",
   "metadata": {},
   "source": [
    "Controllo se Time contiene valori duplicati"
   ]
  },
  {
   "cell_type": "code",
   "execution_count": null,
   "metadata": {},
   "outputs": [],
   "source": [
    "print(len(df['Time'].unique()))\n",
    "print(df.Time.unique().all())"
   ]
  },
  {
   "cell_type": "markdown",
   "metadata": {},
   "source": [
    "Tutti i valori di time sono unici, quindi posso usare Time come indice e considerare il dataset come una time series"
   ]
  },
  {
   "cell_type": "code",
   "execution_count": null,
   "metadata": {},
   "outputs": [],
   "source": [
    "df.set_index(\"Time\", inplace=True)\n",
    "df.head(10)"
   ]
  },
  {
   "cell_type": "markdown",
   "metadata": {},
   "source": [
    "Visualizzo i grafici di tutte le colone in funzione di Time"
   ]
  },
  {
   "cell_type": "code",
   "execution_count": null,
   "metadata": {},
   "outputs": [],
   "source": [
    "fig = make_subplots(cols=11, rows=4, subplot_titles=list(df.columns))\n",
    "x = 0\n",
    "for r in range(4):\n",
    "    for c in range(11):\n",
    "        fig.add_trace(go.Scatter(x=df.index, y=df[df.columns[x]], line=dict(\n",
    "            width=.5), opacity=1, name=df.columns[x]), row=r+1, col=c+1)\n",
    "        x += 1\n",
    "fig.update_layout(showlegend=False)\n",
    "fig.show()\n"
   ]
  },
  {
   "cell_type": "markdown",
   "metadata": {},
   "source": [
    "Dai grafici sembra che i valori di alcune colonne siano tutti costanti"
   ]
  },
  {
   "cell_type": "code",
   "execution_count": null,
   "metadata": {},
   "outputs": [],
   "source": [
    "control = [3, 11, 12, 13, 14, 16, 24, 25,\n",
    "           26, 28, 29, 30, 31, 32, 39, 40, 41, 42]\n",
    "fig = make_subplots(cols=6, rows=3, subplot_titles=list(df.columns[control]))\n",
    "x = 0\n",
    "for r in range(3):\n",
    "    for c in range(6):\n",
    "        fig.add_trace(go.Scatter(x=df.index, y=df.iloc[:, control[x]], line=dict(\n",
    "            width=.9), opacity=1, name=df.columns[x]), row=r+1, col=c+1)\n",
    "        x += 1\n",
    "        if x == 18:\n",
    "            break\n",
    "fig.update_layout(showlegend=False)\n",
    "fig.show()\n"
   ]
  },
  {
   "cell_type": "markdown",
   "metadata": {},
   "source": [
    "Tutte queste colonne contengono valori 0 eccetto td_mildTurnDetected, quindi possiamo rimuoverle.\n",
    "td_mildTurnDetected costante a 1 puo significare che la barca durante il test si stava girando leggermente probabilmente perche il test è stato condotto in acqua, detto questo la colonna non verra più usata quindi verra rimossa."
   ]
  },
  {
   "cell_type": "code",
   "execution_count": null,
   "metadata": {},
   "outputs": [],
   "source": [
    "df = df.drop(labels=df.columns[control],axis=1)\n",
    "df.head(10)"
   ]
  },
  {
   "cell_type": "markdown",
   "metadata": {},
   "source": [
    "A quest punto normalizzo i dati in modo che varino da 0 a 1"
   ]
  },
  {
   "cell_type": "code",
   "execution_count": null,
   "metadata": {},
   "outputs": [],
   "source": [
    "df = (df-df.min())/(df.max()-df.min())\n",
    "df.head(10)"
   ]
  },
  {
   "cell_type": "code",
   "execution_count": null,
   "metadata": {},
   "outputs": [],
   "source": [
    "fig = make_subplots(cols=7, rows=4, subplot_titles=list(df.columns))\n",
    "x = 0\n",
    "for r in range(4):\n",
    "    for c in range(7):\n",
    "        fig.add_trace(go.Scatter(x=df.index, y=df[df.columns[x]], line=dict(\n",
    "            width=.6), opacity=0.8, name=df.columns[x]), row=r+1, col=c+1)        \n",
    "        x += 1\n",
    "        if x == 27:\n",
    "            break\n",
    "fig.update_layout(showlegend=False)\n",
    "fig.show()\n"
   ]
  },
  {
   "cell_type": "code",
   "execution_count": null,
   "metadata": {},
   "outputs": [],
   "source": [
    "fig = go.Figure(data=go.Heatmap(z=df.corr(), x=df.columns, y=df.columns,\n",
    "                colorscale='RdBu', text=df.corr(), texttemplate=\"%{text:.1f}\", textfont={\"size\": 7}))\n",
    "fig.update_layout(font=dict(size=7))\n",
    "fig.show()"
   ]
  },
  {
   "cell_type": "markdown",
   "metadata": {},
   "source": [
    "Dalla descrizione del dataset fornita so che la variabile functions indica se lo stabilizzatore era acceso (1) o spento (0) quindi creo dei grafici per vedere se lo stabilizzatore influisce sui dati.\n",
    "Come dati da paragonare scelgo alcuni valori che ad occhio sembrano variare al variare di functions."
   ]
  },
  {
   "cell_type": "code",
   "execution_count": null,
   "metadata": {},
   "outputs": [],
   "source": [
    "control = [2, 6, 7, 8, 9, 19, 20, 21, 22, 15, 18]\n",
    "fig = fig = make_subplots(\n",
    "    cols=4, rows=3, subplot_titles=list(df.columns[control]))\n",
    "x = 0\n",
    "for r in range(3):\n",
    "    for c in range(4):\n",
    "        fig.add_trace(go.Scatter(x=df.index, y=df['functions'], opacity=1, line=dict(\n",
    "            width=.8, color='black'), name='functions'), row=r+1, col=c+1)\n",
    "        fig.add_trace(go.Scatter(x=df.index, y=df.iloc[:, control[x]], line=dict(\n",
    "            width=.5), opacity=1, name=df.columns[control[x]]), row=r+1, col=c+1)\n",
    "        x += 1\n",
    "        if x == 11:\n",
    "            break\n",
    "fig.update_layout(showlegend=False)\n",
    "fig.show()\n"
   ]
  },
  {
   "cell_type": "markdown",
   "metadata": {},
   "source": [
    "Dat grafici sembra che:  \n",
    "-ls_listAng, gyro_X e ls_rollRate si riducano quando lo stabilizzatore è acceso.  \n",
    "-servo[0].posDem, servo[0].pos, servo[1].posDem, servo[1].pos, a_portRollFin, a_PortRollFinIn a_stbdRollFin, a_StbdRollFinIn e gyro_X aumentino quando lo stabilizzatore e acceso"
   ]
  },
  {
   "cell_type": "markdown",
   "metadata": {},
   "source": [
    "Analizziamo altri dati:"
   ]
  },
  {
   "cell_type": "code",
   "execution_count": null,
   "metadata": {},
   "outputs": [],
   "source": [
    "fig = go.Figure()\n",
    "fig.add_trace(go.Scatter(x=df.index, y=df['se_speed'],  opacity=1,  line=dict(\n",
    "    width=.7, color='blue'),marker=dict(size=.7),mode='lines+markers', name='se_speed'))\n",
    "fig.add_trace(go.Scatter(x=df.index, y=df['GPS_speed'], opacity=.8, line=dict(\n",
    "    width=.7, color='red'), name='GPS_speed'))\n",
    "fig.show()\n"
   ]
  },
  {
   "cell_type": "markdown",
   "metadata": {},
   "source": [
    "La velocita misurata dalla barca e quella misurata dal GPS sono simili, con l'unica differenza che GPS_speed è presa a campione ogni tot millisecondi"
   ]
  },
  {
   "cell_type": "code",
   "execution_count": null,
   "metadata": {},
   "outputs": [],
   "source": [
    "control = [4,5,11]\n",
    "col = ['red','blue','yellow']\n",
    "titles = list(df.columns[control])\n",
    "titles.append('ls_trueTurnAng e al_trueTurnTarget')\n",
    "fig = fig = make_subplots(\n",
    "    cols=2, rows=2, subplot_titles=titles)\n",
    "x = 0\n",
    "for r in range(2):\n",
    "    for c in range(2):\n",
    "        fig.add_trace(go.Scatter(x=df.index, y=df['se_speed'], opacity=.8, line=dict(\n",
    "            width=.8, color='green'), name='se_speed'), row=r+1, col=c+1)\n",
    "        fig.add_trace(go.Scatter(x=df.index, y=df.iloc[:, control[x]], line=dict(\n",
    "            width=.5,color=col[x]), opacity=1, name=df.columns[control[x]]), row=r+1, col=c+1)\n",
    "        x += 1\n",
    "        if x == 3:\n",
    "            break\n",
    "fig.add_trace(go.Scatter(x=df.index, y=df['al_trueTurnTarget'], opacity=1, line=dict(\n",
    "            width=.8, color='red'), name='al_trueTurnTarget'), row=2, col=2)\n",
    "fig.add_trace(go.Scatter(x=df.index, y=df['ls_trueTurnAng'], opacity=1, line=dict(\n",
    "            width=.8, color='blue'), name='ls_trueTurnAng'), row=2, col=2)\n",
    "fig.update_layout(showlegend=False)\n",
    "fig.show()"
   ]
  },
  {
   "cell_type": "markdown",
   "metadata": {},
   "source": [
    "ls_trueTurnAng e al_trueTurnTarget sono molto simili, lo stesso vale per td_turnDetectedSourceVal e se_speed"
   ]
  },
  {
   "cell_type": "code",
   "execution_count": null,
   "metadata": {},
   "outputs": [],
   "source": [
    "fig = fig = make_subplots(cols=3, rows=1,subplot_titles=['accel_X e gyro_X','accel_Y e gyro_Y','accel_Z e gyro_Z'])\n",
    "fig.add_trace(go.Scatter(x=df.index, y=df['accel_X'], opacity=.7, line=dict(\n",
    "    width=.5, color='red'),  mode='lines'), row=1, col=1)\n",
    "fig.add_trace(go.Scatter(x=df.index, y=df['gyro_X'],  opacity=.7, line=dict(\n",
    "    width=.5, color='blue'), mode='lines'), row=1, col=1)\n",
    "fig.add_trace(go.Scatter(x=df.index, y=df['accel_Y'], opacity=.7, line=dict(\n",
    "    width=.5, color='red'),  mode='lines'), row=1, col=2)\n",
    "fig.add_trace(go.Scatter(x=df.index, y=df['gyro_Y'],  opacity=.7, line=dict(\n",
    "    width=.5, color='blue'), mode='lines'), row=1, col=2)\n",
    "fig.add_trace(go.Scatter(x=df.index, y=df['accel_Z'], opacity=.7, line=dict(\n",
    "    width=.5, color='red'),  mode='lines'), row=1, col=3)\n",
    "fig.add_trace(go.Scatter(x=df.index, y=df['gyro_Z'],  opacity=.7, line=dict(\n",
    "    width=.5, color='blue'), mode='lines'), row=1, col=3)\n",
    "fig.update_layout(showlegend=False)\n",
    "fig.show()"
   ]
  },
  {
   "cell_type": "code",
   "execution_count": null,
   "metadata": {},
   "outputs": [],
   "source": [
    "fig = go.Figure()\n",
    "fig.add_trace(go.Scatter(x=df.index, y=df['ls_yawAng'], opacity=.7, line=dict(\n",
    "    width=.5, color='red'),  mode='lines', name='ls_yawAng'))\n",
    "fig.add_trace(go.Scatter(x=df.index, y=df['ls_yawRate'],  opacity=.7, line=dict(\n",
    "    width=.5, color='blue'), mode='lines', name='ls_yawRate'))\n",
    "fig.show()\n"
   ]
  },
  {
   "cell_type": "code",
   "execution_count": null,
   "metadata": {},
   "outputs": [],
   "source": [
    "fig = go.Figure([go.Scatter(x=df.index, y=df['GPS_cog'], opacity=.7, line=dict(\n",
    "    width=1, color='red'),  mode='lines', name='GPS_cog')])\n",
    "fig.add_trace(go.Scatter(x=df.index, y=df['al_trueTurnTarget'], opacity=1, line=dict(\n",
    "            width=.8, color='blue'),name='al_trueTurnTarget'))\n",
    "fig.show()"
   ]
  },
  {
   "cell_type": "markdown",
   "metadata": {},
   "source": [
    "la barca parte posizionata verso sud-ovest, si gira a sud poi verso nord e alla fine rimane verso sud-est"
   ]
  }
 ],
 "metadata": {
  "kernelspec": {
   "display_name": "Python 3 (ipykernel)",
   "language": "python",
   "name": "python3"
  },
  "language_info": {
   "codemirror_mode": {
    "name": "ipython",
    "version": 3
   },
   "file_extension": ".py",
   "mimetype": "text/x-python",
   "name": "python",
   "nbconvert_exporter": "python",
   "pygments_lexer": "ipython3",
   "version": "3.10.8"
  },
  "orig_nbformat": 4,
  "vscode": {
   "interpreter": {
    "hash": "1da205aaf7c80ee523dc69d80773aa4b2e72a1a3acaa086b8e1357ac79737cbd"
   }
  }
 },
 "nbformat": 4,
 "nbformat_minor": 2
}
